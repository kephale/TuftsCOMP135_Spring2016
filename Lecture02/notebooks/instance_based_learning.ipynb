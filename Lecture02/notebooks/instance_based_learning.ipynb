{
 "cells": [
  {
   "cell_type": "code",
   "execution_count": 13,
   "metadata": {
    "collapsed": false
   },
   "outputs": [
    {
     "ename": "ImportError",
     "evalue": "No module named matplotlib",
     "output_type": "error",
     "traceback": [
      "\u001b[0;31m---------------------------------------------------------------------------\u001b[0m",
      "\u001b[0;31mImportError\u001b[0m                               Traceback (most recent call last)",
      "\u001b[0;32m<ipython-input-13-86805b7f71fa>\u001b[0m in \u001b[0;36m<module>\u001b[0;34m()\u001b[0m\n\u001b[0;32m----> 1\u001b[0;31m \u001b[0mget_ipython\u001b[0m\u001b[0;34m(\u001b[0m\u001b[0;34m)\u001b[0m\u001b[0;34m.\u001b[0m\u001b[0mmagic\u001b[0m\u001b[0;34m(\u001b[0m\u001b[0;34mu'matplotlib inline'\u001b[0m\u001b[0;34m)\u001b[0m\u001b[0;34m\u001b[0m\u001b[0m\n\u001b[0m\u001b[1;32m      2\u001b[0m \u001b[0;34m\u001b[0m\u001b[0m\n\u001b[1;32m      3\u001b[0m \u001b[0;32mimport\u001b[0m \u001b[0mnumpy\u001b[0m \u001b[0;32mas\u001b[0m \u001b[0mnp\u001b[0m\u001b[0;34m\u001b[0m\u001b[0m\n\u001b[1;32m      4\u001b[0m \u001b[0;32mimport\u001b[0m \u001b[0mmatplotlib\u001b[0m\u001b[0;34m.\u001b[0m\u001b[0mpyplot\u001b[0m \u001b[0;32mas\u001b[0m \u001b[0mplt\u001b[0m\u001b[0;34m\u001b[0m\u001b[0m\n\u001b[1;32m      5\u001b[0m \u001b[0;32mimport\u001b[0m \u001b[0mscipy\u001b[0m\u001b[0;34m\u001b[0m\u001b[0m\n",
      "\u001b[0;32m/Library/Frameworks/Python.framework/Versions/2.7/lib/python2.7/site-packages/IPython/core/interactiveshell.pyc\u001b[0m in \u001b[0;36mmagic\u001b[0;34m(self, arg_s)\u001b[0m\n\u001b[1;32m   2161\u001b[0m         \u001b[0mmagic_name\u001b[0m\u001b[0;34m,\u001b[0m \u001b[0m_\u001b[0m\u001b[0;34m,\u001b[0m \u001b[0mmagic_arg_s\u001b[0m \u001b[0;34m=\u001b[0m \u001b[0marg_s\u001b[0m\u001b[0;34m.\u001b[0m\u001b[0mpartition\u001b[0m\u001b[0;34m(\u001b[0m\u001b[0;34m' '\u001b[0m\u001b[0;34m)\u001b[0m\u001b[0;34m\u001b[0m\u001b[0m\n\u001b[1;32m   2162\u001b[0m         \u001b[0mmagic_name\u001b[0m \u001b[0;34m=\u001b[0m \u001b[0mmagic_name\u001b[0m\u001b[0;34m.\u001b[0m\u001b[0mlstrip\u001b[0m\u001b[0;34m(\u001b[0m\u001b[0mprefilter\u001b[0m\u001b[0;34m.\u001b[0m\u001b[0mESC_MAGIC\u001b[0m\u001b[0;34m)\u001b[0m\u001b[0;34m\u001b[0m\u001b[0m\n\u001b[0;32m-> 2163\u001b[0;31m         \u001b[0;32mreturn\u001b[0m \u001b[0mself\u001b[0m\u001b[0;34m.\u001b[0m\u001b[0mrun_line_magic\u001b[0m\u001b[0;34m(\u001b[0m\u001b[0mmagic_name\u001b[0m\u001b[0;34m,\u001b[0m \u001b[0mmagic_arg_s\u001b[0m\u001b[0;34m)\u001b[0m\u001b[0;34m\u001b[0m\u001b[0m\n\u001b[0m\u001b[1;32m   2164\u001b[0m \u001b[0;34m\u001b[0m\u001b[0m\n\u001b[1;32m   2165\u001b[0m     \u001b[0;31m#-------------------------------------------------------------------------\u001b[0m\u001b[0;34m\u001b[0m\u001b[0;34m\u001b[0m\u001b[0m\n",
      "\u001b[0;32m/Library/Frameworks/Python.framework/Versions/2.7/lib/python2.7/site-packages/IPython/core/interactiveshell.pyc\u001b[0m in \u001b[0;36mrun_line_magic\u001b[0;34m(self, magic_name, line)\u001b[0m\n\u001b[1;32m   2082\u001b[0m                 \u001b[0mkwargs\u001b[0m\u001b[0;34m[\u001b[0m\u001b[0;34m'local_ns'\u001b[0m\u001b[0;34m]\u001b[0m \u001b[0;34m=\u001b[0m \u001b[0msys\u001b[0m\u001b[0;34m.\u001b[0m\u001b[0m_getframe\u001b[0m\u001b[0;34m(\u001b[0m\u001b[0mstack_depth\u001b[0m\u001b[0;34m)\u001b[0m\u001b[0;34m.\u001b[0m\u001b[0mf_locals\u001b[0m\u001b[0;34m\u001b[0m\u001b[0m\n\u001b[1;32m   2083\u001b[0m             \u001b[0;32mwith\u001b[0m \u001b[0mself\u001b[0m\u001b[0;34m.\u001b[0m\u001b[0mbuiltin_trap\u001b[0m\u001b[0;34m:\u001b[0m\u001b[0;34m\u001b[0m\u001b[0m\n\u001b[0;32m-> 2084\u001b[0;31m                 \u001b[0mresult\u001b[0m \u001b[0;34m=\u001b[0m \u001b[0mfn\u001b[0m\u001b[0;34m(\u001b[0m\u001b[0;34m*\u001b[0m\u001b[0margs\u001b[0m\u001b[0;34m,\u001b[0m\u001b[0;34m**\u001b[0m\u001b[0mkwargs\u001b[0m\u001b[0;34m)\u001b[0m\u001b[0;34m\u001b[0m\u001b[0m\n\u001b[0m\u001b[1;32m   2085\u001b[0m             \u001b[0;32mreturn\u001b[0m \u001b[0mresult\u001b[0m\u001b[0;34m\u001b[0m\u001b[0m\n\u001b[1;32m   2086\u001b[0m \u001b[0;34m\u001b[0m\u001b[0m\n",
      "\u001b[0;32m<decorator-gen-106>\u001b[0m in \u001b[0;36mmatplotlib\u001b[0;34m(self, line)\u001b[0m\n",
      "\u001b[0;32m/Library/Frameworks/Python.framework/Versions/2.7/lib/python2.7/site-packages/IPython/core/magic.pyc\u001b[0m in \u001b[0;36m<lambda>\u001b[0;34m(f, *a, **k)\u001b[0m\n\u001b[1;32m    191\u001b[0m     \u001b[0;31m# but it's overkill for just that one bit of state.\u001b[0m\u001b[0;34m\u001b[0m\u001b[0;34m\u001b[0m\u001b[0m\n\u001b[1;32m    192\u001b[0m     \u001b[0;32mdef\u001b[0m \u001b[0mmagic_deco\u001b[0m\u001b[0;34m(\u001b[0m\u001b[0marg\u001b[0m\u001b[0;34m)\u001b[0m\u001b[0;34m:\u001b[0m\u001b[0;34m\u001b[0m\u001b[0m\n\u001b[0;32m--> 193\u001b[0;31m         \u001b[0mcall\u001b[0m \u001b[0;34m=\u001b[0m \u001b[0;32mlambda\u001b[0m \u001b[0mf\u001b[0m\u001b[0;34m,\u001b[0m \u001b[0;34m*\u001b[0m\u001b[0ma\u001b[0m\u001b[0;34m,\u001b[0m \u001b[0;34m**\u001b[0m\u001b[0mk\u001b[0m\u001b[0;34m:\u001b[0m \u001b[0mf\u001b[0m\u001b[0;34m(\u001b[0m\u001b[0;34m*\u001b[0m\u001b[0ma\u001b[0m\u001b[0;34m,\u001b[0m \u001b[0;34m**\u001b[0m\u001b[0mk\u001b[0m\u001b[0;34m)\u001b[0m\u001b[0;34m\u001b[0m\u001b[0m\n\u001b[0m\u001b[1;32m    194\u001b[0m \u001b[0;34m\u001b[0m\u001b[0m\n\u001b[1;32m    195\u001b[0m         \u001b[0;32mif\u001b[0m \u001b[0mcallable\u001b[0m\u001b[0;34m(\u001b[0m\u001b[0marg\u001b[0m\u001b[0;34m)\u001b[0m\u001b[0;34m:\u001b[0m\u001b[0;34m\u001b[0m\u001b[0m\n",
      "\u001b[0;32m/Library/Frameworks/Python.framework/Versions/2.7/lib/python2.7/site-packages/IPython/core/magics/pylab.pyc\u001b[0m in \u001b[0;36mmatplotlib\u001b[0;34m(self, line)\u001b[0m\n\u001b[1;32m     98\u001b[0m             \u001b[0;32mprint\u001b[0m\u001b[0;34m(\u001b[0m\u001b[0;34m\"Available matplotlib backends: %s\"\u001b[0m \u001b[0;34m%\u001b[0m \u001b[0mbackends_list\u001b[0m\u001b[0;34m)\u001b[0m\u001b[0;34m\u001b[0m\u001b[0m\n\u001b[1;32m     99\u001b[0m         \u001b[0;32melse\u001b[0m\u001b[0;34m:\u001b[0m\u001b[0;34m\u001b[0m\u001b[0m\n\u001b[0;32m--> 100\u001b[0;31m             \u001b[0mgui\u001b[0m\u001b[0;34m,\u001b[0m \u001b[0mbackend\u001b[0m \u001b[0;34m=\u001b[0m \u001b[0mself\u001b[0m\u001b[0;34m.\u001b[0m\u001b[0mshell\u001b[0m\u001b[0;34m.\u001b[0m\u001b[0menable_matplotlib\u001b[0m\u001b[0;34m(\u001b[0m\u001b[0margs\u001b[0m\u001b[0;34m.\u001b[0m\u001b[0mgui\u001b[0m\u001b[0;34m)\u001b[0m\u001b[0;34m\u001b[0m\u001b[0m\n\u001b[0m\u001b[1;32m    101\u001b[0m             \u001b[0mself\u001b[0m\u001b[0;34m.\u001b[0m\u001b[0m_show_matplotlib_backend\u001b[0m\u001b[0;34m(\u001b[0m\u001b[0margs\u001b[0m\u001b[0;34m.\u001b[0m\u001b[0mgui\u001b[0m\u001b[0;34m,\u001b[0m \u001b[0mbackend\u001b[0m\u001b[0;34m)\u001b[0m\u001b[0;34m\u001b[0m\u001b[0m\n\u001b[1;32m    102\u001b[0m \u001b[0;34m\u001b[0m\u001b[0m\n",
      "\u001b[0;32m/Library/Frameworks/Python.framework/Versions/2.7/lib/python2.7/site-packages/IPython/core/interactiveshell.pyc\u001b[0m in \u001b[0;36menable_matplotlib\u001b[0;34m(self, gui)\u001b[0m\n\u001b[1;32m   2937\u001b[0m         \"\"\"\n\u001b[1;32m   2938\u001b[0m         \u001b[0;32mfrom\u001b[0m \u001b[0mIPython\u001b[0m\u001b[0;34m.\u001b[0m\u001b[0mcore\u001b[0m \u001b[0;32mimport\u001b[0m \u001b[0mpylabtools\u001b[0m \u001b[0;32mas\u001b[0m \u001b[0mpt\u001b[0m\u001b[0;34m\u001b[0m\u001b[0m\n\u001b[0;32m-> 2939\u001b[0;31m         \u001b[0mgui\u001b[0m\u001b[0;34m,\u001b[0m \u001b[0mbackend\u001b[0m \u001b[0;34m=\u001b[0m \u001b[0mpt\u001b[0m\u001b[0;34m.\u001b[0m\u001b[0mfind_gui_and_backend\u001b[0m\u001b[0;34m(\u001b[0m\u001b[0mgui\u001b[0m\u001b[0;34m,\u001b[0m \u001b[0mself\u001b[0m\u001b[0;34m.\u001b[0m\u001b[0mpylab_gui_select\u001b[0m\u001b[0;34m)\u001b[0m\u001b[0;34m\u001b[0m\u001b[0m\n\u001b[0m\u001b[1;32m   2940\u001b[0m \u001b[0;34m\u001b[0m\u001b[0m\n\u001b[1;32m   2941\u001b[0m         \u001b[0;32mif\u001b[0m \u001b[0mgui\u001b[0m \u001b[0;34m!=\u001b[0m \u001b[0;34m'inline'\u001b[0m\u001b[0;34m:\u001b[0m\u001b[0;34m\u001b[0m\u001b[0m\n",
      "\u001b[0;32m/Library/Frameworks/Python.framework/Versions/2.7/lib/python2.7/site-packages/IPython/core/pylabtools.pyc\u001b[0m in \u001b[0;36mfind_gui_and_backend\u001b[0;34m(gui, gui_select)\u001b[0m\n\u001b[1;32m    256\u001b[0m     \"\"\"\n\u001b[1;32m    257\u001b[0m \u001b[0;34m\u001b[0m\u001b[0m\n\u001b[0;32m--> 258\u001b[0;31m     \u001b[0;32mimport\u001b[0m \u001b[0mmatplotlib\u001b[0m\u001b[0;34m\u001b[0m\u001b[0m\n\u001b[0m\u001b[1;32m    259\u001b[0m \u001b[0;34m\u001b[0m\u001b[0m\n\u001b[1;32m    260\u001b[0m     \u001b[0;32mif\u001b[0m \u001b[0mgui\u001b[0m \u001b[0;32mand\u001b[0m \u001b[0mgui\u001b[0m \u001b[0;34m!=\u001b[0m \u001b[0;34m'auto'\u001b[0m\u001b[0;34m:\u001b[0m\u001b[0;34m\u001b[0m\u001b[0m\n",
      "\u001b[0;31mImportError\u001b[0m: No module named matplotlib"
     ]
    }
   ],
   "source": [
    "%matplotlib inline\n",
    "\n",
    "import numpy as np\n",
    "import matplotlib.pyplot as plt\n",
    "import scipy\n",
    "import scipy.spatial\n",
    "\n",
    "np.random.seed( 2503865 ) # We'll set the random number generator's seed so everyone generates the exact same dataset"
   ]
  },
  {
   "cell_type": "code",
   "execution_count": null,
   "metadata": {
    "collapsed": true
   },
   "outputs": [],
   "source": [
    "# Let's define 2 clusters defined by Gaussians (we'll call them clumps to avoid confusion later)\n",
    "sigma = 0.05\n",
    "\n",
    "clump1_N = 100\n",
    "clump1_x = [ np.random.normal(loc=0.25,scale=sigma) for i in range(clump1_N) ]\n",
    "clump1_y = [ np.random.normal(loc=0.75,scale=sigma) for i in range(clump1_N) ]\n",
    "\n",
    "clump2_N = clump1_N\n",
    "clump2_x = [ np.random.normal(loc=0.75,scale=sigma) for i in range(clump2_N) ]\n",
    "clump2_y = [ np.random.normal(loc=0.25,scale=sigma) for i in range(clump2_N) ]"
   ]
  },
  {
   "cell_type": "code",
   "execution_count": null,
   "metadata": {
    "collapsed": false
   },
   "outputs": [],
   "source": [
    "points_x = clump1_x + clump2_x\n",
    "points_y = clump1_y + clump2_y\n",
    "clump1_color = 0\n",
    "clump2_color = 1\n",
    "clump_area = 75\n",
    "colors = [ clump1_color for i in range(clump1_N) ] + [ clump2_color for i in range(clump2_N) ]\n",
    "areas = [ clump_area for i in range(clump1_N+clump2_N) ]\n",
    "\n",
    "plt.scatter( points_x, points_y, c=colors, s=areas )"
   ]
  },
  {
   "cell_type": "code",
   "execution_count": null,
   "metadata": {
    "collapsed": true
   },
   "outputs": [],
   "source": [
    "clump3_N = 5\n",
    "clump3_x = [ np.random.normal(loc=0.5,scale=sigma) for i in range(clump3_N) ]\n",
    "clump3_y = [ np.random.normal(loc=0.5,scale=sigma) for i in range(clump3_N) ]"
   ]
  },
  {
   "cell_type": "code",
   "execution_count": null,
   "metadata": {
    "collapsed": false
   },
   "outputs": [],
   "source": [
    "points_x = clump1_x + clump2_x + clump3_x\n",
    "points_y = clump1_y + clump2_y + clump3_y\n",
    "clump1_color = 0\n",
    "clump2_color = 1\n",
    "clump3_color = 0.5\n",
    "clump_area = 75\n",
    "colors = [ clump1_color for i in range(clump1_N) ] + [ clump2_color for i in range(clump2_N) ] + [ clump3_color for i in range(clump3_N) ]\n",
    "areas = [ clump_area for i in range(clump1_N+clump2_N+clump3_N) ]\n",
    "\n",
    "plt.scatter( points_x, points_y, c=colors, s=areas )\n",
    "#plt.savefig('../images/instance_based_learning_001.png')"
   ]
  },
  {
   "cell_type": "code",
   "execution_count": null,
   "metadata": {
    "collapsed": false
   },
   "outputs": [],
   "source": [
    "points_x = clump1_x + clump2_x\n",
    "points_y = clump1_y + clump2_y\n",
    "\n",
    "dataset = np.matrix( zip(points_x,points_y) )\n",
    "\n",
    "kdtree = scipy.spatial.KDTree( dataset )\n",
    "\n",
    "query_result = kdtree.query( [0.5, 0.5], k=10 )\n",
    "\n",
    "clump1_vote = np.sum( [ 1 for nbr_idx in query_result[1] if nbr_idx <= clump1_N ] )"
   ]
  },
  {
   "cell_type": "code",
   "execution_count": null,
   "metadata": {
    "collapsed": false,
    "scrolled": true
   },
   "outputs": [],
   "source": [
    "dataset = np.array( zip((clump1_x + clump2_x), (clump1_y + clump2_y)) )\n",
    "kdtree = scipy.spatial.KDTree( dataset )\n",
    "\n",
    "kNN_k = 11\n",
    "\n",
    "query_dataset = np.array( zip(clump3_x,clump3_y) )\n",
    "query_result = kdtree.query( query_dataset, k=kNN_k )\n",
    "\n",
    "query_votes = [ np.sum( [ 1 for nbr_idx in row_result if nbr_idx < clump1_N ] ) for row_result in query_result[1] ]\n",
    "query_votes"
   ]
  },
  {
   "cell_type": "code",
   "execution_count": null,
   "metadata": {
    "collapsed": false
   },
   "outputs": [],
   "source": [
    "points_x = clump1_x + clump2_x + clump3_x\n",
    "points_y = clump1_y + clump2_y + clump3_y\n",
    "clump1_color = 0\n",
    "clump2_color = 1\n",
    "clump3_color = 0.5\n",
    "clump_area = 75\n",
    "colors = [ clump1_color for i in range(clump1_N) ] \n",
    "colors += [ clump2_color for i in range(clump2_N) ] \n",
    "colors += [ clump1_color if ( query_votes[i] > ( kNN_k / 2 ) ) else clump2_color for i in range(clump3_N) ]\n",
    "areas = [ clump_area for i in range(clump1_N+clump2_N+clump3_N) ]\n",
    "\n",
    "plt.scatter( points_x, points_y, c=colors, s=areas )\n",
    "#plt.savefig('../images/instance_based_learning_002.png')"
   ]
  },
  {
   "cell_type": "code",
   "execution_count": null,
   "metadata": {
    "collapsed": false
   },
   "outputs": [],
   "source": [
    "# Taken from some code for plotting a KD-tree in Python available here:\n",
    "# https://salzis.wordpress.com/2014/06/28/kd-tree-and-nearest-neighbor-nn-search-2d-case/\n",
    "\n",
    "from collections import namedtuple\n",
    "from operator import itemgetter\n",
    "from pprint import pformat\n",
    "\n",
    "class Node(namedtuple('Node', 'location left_child right_child')):\n",
    " \n",
    "    def __repr__(self):\n",
    "        return pformat(tuple(self))\n",
    " \n",
    "def viz_kdtree(point_list, depth=0):\n",
    "    \"\"\" build K-D tree\n",
    "    :param point_list list of input points\n",
    "    :param depth      current tree's depth\n",
    "    :return tree node\n",
    "    \"\"\"\n",
    " \n",
    "    # assumes all points have the same dimension\n",
    "    try:\n",
    "        k = len(point_list[0])\n",
    "    except IndexError:\n",
    "        return None\n",
    " \n",
    "    # Select axis based on depth so that axis cycles through\n",
    "    # all valid values\n",
    "    axis = depth % k\n",
    " \n",
    "    # Sort point list and choose median as pivot element\n",
    "    point_list.sort(key=itemgetter(axis))\n",
    "    median = len(point_list) // 2         # choose median\n",
    " \n",
    "    # Create node and construct subtrees\n",
    "    return Node(\n",
    "        location=point_list[median],\n",
    "        left_child=viz_kdtree(point_list[:median], depth + 1),\n",
    "        right_child=viz_kdtree(point_list[median + 1:], depth + 1)\n",
    "    )\n",
    "\n",
    " \n",
    "def plot_tree(tree, min_x, max_x, min_y, max_y, prev_node, branch, depth=0):\n",
    "    \"\"\" plot K-D tree\n",
    "    :param tree      input tree to be plotted\n",
    "    :param min_x\n",
    "    :param max_x\n",
    "    :param min_y\n",
    "    :param max_y\n",
    "    :param prev_node parent's node\n",
    "    :param branch    True if left, False if right\n",
    "    :param depth     tree's depth\n",
    "    :return tree     node\n",
    "    \"\"\"\n",
    " \n",
    "    cur_node = tree.location         # current tree's node\n",
    "    left_branch = tree.left_child    # its left branch\n",
    "    right_branch = tree.right_child  # its right branch\n",
    " \n",
    "    # set line's width depending on tree's depth\n",
    "    if depth > len(line_width)-1:\n",
    "        ln_width = line_width[len(line_width)-1]\n",
    "    else:\n",
    "        ln_width = line_width[depth]\n",
    " \n",
    "    k = len(cur_node)\n",
    "    axis = depth % k\n",
    " \n",
    "    # draw a vertical splitting line\n",
    "    if axis == 0:\n",
    " \n",
    "        if branch is not None and prev_node is not None:\n",
    " \n",
    "            if branch:\n",
    "                max_y = prev_node[1]\n",
    "            else:\n",
    "                min_y = prev_node[1]\n",
    " \n",
    "        plt.plot([cur_node[0],cur_node[0]], [min_y,max_y], linestyle='-', color='red', linewidth=ln_width)\n",
    " \n",
    "    # draw a horizontal splitting line\n",
    "    elif axis == 1:\n",
    " \n",
    "        if branch is not None and prev_node is not None:\n",
    " \n",
    "            if branch:\n",
    "                max_x = prev_node[0]\n",
    "            else:\n",
    "                min_x = prev_node[0]\n",
    " \n",
    "        plt.plot([min_x,max_x], [cur_node[1],cur_node[1]], linestyle='-', color='blue', linewidth=ln_width)\n",
    " \n",
    "    # draw the current node\n",
    "    plt.plot(cur_node[0], cur_node[1], 'ko')\n",
    " \n",
    "    # draw left and right branches of the current node\n",
    "    if left_branch is not None:\n",
    "        plot_tree(left_branch, min_x, max_x, min_y, max_y, cur_node, True, depth+1)\n",
    " \n",
    "    if right_branch is not None:\n",
    "        plot_tree(right_branch, min_x, max_x, min_y, max_y, cur_node, False, depth+1)\n",
    " "
   ]
  },
  {
   "cell_type": "code",
   "execution_count": null,
   "metadata": {
    "collapsed": false
   },
   "outputs": [],
   "source": [
    "sigma = 0.25\n",
    "\n",
    "clump4_N = 10 #500\n",
    "clump4_x = [ np.random.normal(loc=0.5,scale=sigma) for i in range(clump4_N) ]\n",
    "clump4_y = [ np.random.normal(loc=0.5,scale=sigma) for i in range(clump4_N) ]\n",
    "\n",
    "vkdtree = viz_kdtree( zip(clump4_x, clump4_y) )\n",
    "\n",
    "# line width for visualization of K-D tree\n",
    "line_width = [4., 3.5, 3., 2.5, 2., 1.5, 1., .5, 0.3]\n",
    "\n",
    "min_val = 0\n",
    "max_val = 1\n",
    "delta = 0\n",
    "\n",
    "plt.figure(\"K-d Tree\", figsize=(10., 10.))\n",
    "plt.axis( [min_val-delta, max_val+delta, min_val-delta, max_val+delta] )\n",
    " \n",
    "plt.grid(b=True, which='major', color='0.75', linestyle='--')\n",
    "plt.xticks([i for i in range(min_val-delta, max_val+delta, 1)])\n",
    "plt.yticks([i for i in range(min_val-delta, max_val+delta, 1)])\n",
    " \n",
    "# draw the tree\n",
    "plot_tree(vkdtree, min_val-delta, max_val+delta, min_val-delta, max_val+delta, None, None)\n",
    " \n",
    "plt.title('K-D Tree')\n",
    "#plt.show()\n",
    "plt.savefig('../images/instance_based_learning_003.png')"
   ]
  },
  {
   "cell_type": "code",
   "execution_count": null,
   "metadata": {
    "collapsed": false,
    "scrolled": true
   },
   "outputs": [],
   "source": [
    "vkdtree = viz_kdtree( zip((clump1_x + clump2_x), (clump1_y + clump2_y)) )\n",
    "\n",
    "# line width for visualization of K-D tree\n",
    "line_width = [4., 3.5, 3., 2.5, 2., 1.5, 1., .5, 0.3]\n",
    "\n",
    "min_val = 0\n",
    "max_val = 1\n",
    "delta = 0\n",
    "\n",
    "plt.figure(\"K-d Tree\", figsize=(10., 10.))\n",
    "plt.axis( [min_val-delta, max_val+delta, min_val-delta, max_val+delta] )\n",
    " \n",
    "plt.grid(b=True, which='major', color='0.75', linestyle='--')\n",
    "plt.xticks([i for i in range(min_val-delta, max_val+delta, 1)])\n",
    "plt.yticks([i for i in range(min_val-delta, max_val+delta, 1)])\n",
    "\n",
    "# draw the tree\n",
    "plot_tree(vkdtree, min_val-delta, max_val+delta, min_val-delta, max_val+delta, None, None)\n",
    " \n",
    "plt.title('K-D Tree')\n",
    "#plt.show()\n",
    "plt.savefig('../images/instance_based_learning_004.png')"
   ]
  },
  {
   "cell_type": "code",
   "execution_count": 17,
   "metadata": {
    "collapsed": false,
    "scrolled": false
   },
   "outputs": [],
   "source": [
    "def kNN(k, classified_points, unclassified_points):\n",
    "    #classified_points is a list of lists of tuples.  \n",
    "    #Each list of tuples in classified_points represents a classified clump of points\n",
    "    #Each tuple is the coordinates of a point.\n",
    "    \n",
    "    num_clumps = len(classified_points) #number of distinct classified clumps\n",
    "    num_dimensions = len( classified_points[0][0] ) # number of distinct dimensions for each point\n",
    "    \n",
    "    distances = []  # a list we shall populate with a list of pairs for each point to classify.  \n",
    "                   # each list of pairs will correspond to all classified points distance from the point to classify\n",
    "                   # and their original clump number.  That is: (distance, clumpno)\n",
    "    \n",
    "    for i in range(len (unclassified_points) ):\n",
    "        distances.append( [] )\n",
    "        for y in range( num_clumps ):\n",
    "            for z in range ( len ( classified_points[y]) ):\n",
    "                dist = 0\n",
    "                for d in range (num_dimensions):\n",
    "                    dist = dist + pow( (unclassified_points[i][d] - classified_points[y][z][d]), 2)\n",
    "                dist = sqrt(dist)\n",
    "                distances[i].append( (dist, y) )\n",
    "        distances[i].sort(key = lambda x: x[0] )\n",
    "        \n",
    "    results = [] #returns the number of the clump with the 'k' nearest neighbor\n",
    "                 #for each unclassified point\n",
    "        \n",
    "    for i in range(len(distances)):\n",
    "        results.append( [] )\n",
    "        neigh_count = []\n",
    "        for z in range( num_clumps): \n",
    "            neigh_count.append(0)\n",
    "        while(current < k):  #note that this loop may 'hang' if k is improperly selected\n",
    "            curr_tuple = distances[i].pop(0)\n",
    "            neigh_count[ curr_tuple[1] ] += 1\n",
    "            current  = neigh_count[ curr_tuple[1] ]\n",
    "        results[i] = curr_tuple[1]\n",
    "        \n",
    "    return results\n",
    "                \n",
    "            \n",
    "            "
   ]
  }
 ],
 "metadata": {
  "kernelspec": {
   "display_name": "Python 2",
   "language": "python",
   "name": "python2"
  },
  "language_info": {
   "codemirror_mode": {
    "name": "ipython",
    "version": 2
   },
   "file_extension": ".py",
   "mimetype": "text/x-python",
   "name": "python",
   "nbconvert_exporter": "python",
   "pygments_lexer": "ipython2",
   "version": "2.7.10"
  }
 },
 "nbformat": 4,
 "nbformat_minor": 0
}
